{
  "nbformat": 4,
  "nbformat_minor": 0,
  "metadata": {
    "colab": {
      "name": "Day1-KMC-FDP-Python.ipynb",
      "provenance": [],
      "authorship_tag": "ABX9TyMVi63JWbL8Cl+z49XtCzyZ",
      "include_colab_link": true
    },
    "kernelspec": {
      "name": "python3",
      "display_name": "Python 3"
    },
    "language_info": {
      "name": "python"
    }
  },
  "cells": [
    {
      "cell_type": "markdown",
      "metadata": {
        "id": "view-in-github",
        "colab_type": "text"
      },
      "source": [
        "<a href=\"https://colab.research.google.com/github/iamrsp/kmc_python/blob/main/Day1_KMC_FDP_Python.ipynb\" target=\"_parent\"><img src=\"https://colab.research.google.com/assets/colab-badge.svg\" alt=\"Open In Colab\"/></a>"
      ]
    },
    {
      "cell_type": "markdown",
      "metadata": {
        "id": "t6tu6i8IHW4n"
      },
      "source": [
        "Program No.1 "
      ]
    },
    {
      "cell_type": "code",
      "metadata": {
        "id": "XhyWtcZlEEBb"
      },
      "source": [
        "#library imports\n",
        "import numpy as np\n",
        "import scipy as sp\n",
        "import matplotlib.pyplot as plt"
      ],
      "execution_count": 42,
      "outputs": []
    },
    {
      "cell_type": "code",
      "metadata": {
        "id": "nl2vTHgJ8nXa"
      },
      "source": [
        "def test1():\n",
        "  a=4.+2.j\n",
        "  d= 11%2\n",
        "  print(a,'\\t',a.real,'\\t', a.imag, '\\t', a.conjugate(),'\\t',d)"
      ],
      "execution_count": 47,
      "outputs": []
    },
    {
      "cell_type": "code",
      "metadata": {
        "id": "7CGDv1DMdO35"
      },
      "source": [
        "def test_odd_even():\n",
        "  x=int(input(\"Enter a number \"))\n",
        "  if (x%2 ==0):\n",
        "    print(\"The entered number is even \")\n",
        "  else:\n",
        "    print(\"The entered number is odd \")"
      ],
      "execution_count": 48,
      "outputs": []
    },
    {
      "cell_type": "code",
      "metadata": {
        "id": "I_D5jQdpfXGc"
      },
      "source": [
        "def test_angle():\n",
        "  theta=int(input(\"Enter the angle (in degrees) \"))\n",
        "  theta_rad=theta*np.pi/180\n",
        "  print(\"sine of the angle theta is \",np.sin(theta_rad))\n",
        "  print(\"sine of the angle theta is \",np.sin(np.radians(theta)))\n",
        "  print(\"For theta = {:3.2f}, the sine of the angle is {:4.2f}\".format(theta,np.sin(np.radians(theta))))"
      ],
      "execution_count": 49,
      "outputs": []
    },
    {
      "cell_type": "code",
      "metadata": {
        "id": "z_kGyjmLiHki"
      },
      "source": [
        "def test_velocity_plot():\n",
        "  v0=float(input(\"Enter the initial velocity in m/s \"))\n",
        "  g=9.81\n",
        "  t0=0\n",
        "  tf=50\n",
        "  dt=1\n",
        "  n=int((tf-t0)/dt)+1\n",
        "  t=np.linspace(t0,tf,n)\n",
        "  y=np.zeros(n)\n",
        "  for i in range(n):\n",
        "    y[i]=v0*t[i]+(0.5*g*t[i]*t[i])\n",
        "  plt.plot(t,y)\n",
        "  plt.xlim(0,50)\n",
        "  plt.xlabel(\"t (s)\")\n",
        "  plt.ylabel(\"y(t)\")\n"
      ],
      "execution_count": 50,
      "outputs": []
    },
    {
      "cell_type": "code",
      "metadata": {
        "id": "xuMXeN_ClDAe"
      },
      "source": [
        "def test_Heron():\n",
        "  a=4.503\n",
        "  b=2.377\n",
        "  c=3.902\n",
        "  s=0.5*(a+b+c)\n",
        "  area=np.sqrt(s*(s-a)*(s-b)*(s-c))\n",
        "  print(\"Area of the triangle using Heron's formula is \",\\\n",
        "          round(area,3) ,\\\n",
        "          \"and it's square is \",\\\n",
        "          round(area*area,3))"
      ],
      "execution_count": 51,
      "outputs": []
    },
    {
      "cell_type": "markdown",
      "metadata": {
        "id": "Li7dZPfT33v7"
      },
      "source": [
        "Assignment#1 6th Dec 2021 FDP-KMC-Day1"
      ]
    },
    {
      "cell_type": "markdown",
      "metadata": {
        "id": "DYQNuHeSCCNA"
      },
      "source": [
        "**Exercise 1:**"
      ]
    },
    {
      "cell_type": "code",
      "metadata": {
        "colab": {
          "base_uri": "https://localhost:8080/"
        },
        "id": "8FTz4XWWtSAt",
        "outputId": "2e548267-6263-43d6-b373-d748a6f53ebd"
      },
      "source": [
        "import numpy as np\n",
        "import math\n",
        "\n",
        "a=6378137.0 # semi-major axis in m\n",
        "c=6356752.314245 # semi-minor axis in m\n",
        "\n",
        "ep_2=1-((c*c)/(a*a))\n",
        "ep=np.sqrt(ep_2)\n",
        "\n",
        "s_obl=2*np.pi *a*a* (1+( ( (1-ep_2)/(ep) ) * math.atanh(ep) ) )\n",
        "\n",
        "r=6371000. #radius of earth in m\n",
        "s_sph=4*np.pi*r*r\n",
        "\n",
        "print(\"Surface area of earth as an oblte spheroid in sq. m. is \", s_obl)\n",
        "print(\"Surface area of earth as a sphere in sq. m. is \", s_sph)\n",
        "\n",
        "np.isclose(s_obl,s_sph,1e-5)\n"
      ],
      "execution_count": null,
      "outputs": [
        {
          "output_type": "stream",
          "name": "stdout",
          "text": [
            "Surface area of earth as an oblte spheroid in sq. m. is  510065621724079.0\n",
            "Surface area of earth as a sphere in sq. m. is  510064471909788.25\n"
          ]
        },
        {
          "output_type": "execute_result",
          "data": {
            "text/plain": [
              "True"
            ]
          },
          "metadata": {},
          "execution_count": 30
        }
      ]
    },
    {
      "cell_type": "markdown",
      "metadata": {
        "id": "LZeQRevCCKxx"
      },
      "source": [
        "**Exercise 2:**"
      ]
    },
    {
      "cell_type": "code",
      "metadata": {
        "colab": {
          "base_uri": "https://localhost:8080/"
        },
        "id": "rDLyQMgH_8BE",
        "outputId": "d90f8afc-de50-4f77-dcda-467de776679d"
      },
      "source": [
        "import numpy as np\n",
        "h=float(input(\"Enter the height of the pyramid \"))\n",
        "n=int(input(\"Enter the number of sides of the polygon base \"))\n",
        "s=float(input(\"Enter the length of the side of the regular polygon \"))\n",
        "\n",
        "# apothem of the base, the base area and the slant height\n",
        "a=0.5*s*(np.cos(np.radians(np.pi/n))/np.sin(np.radians(np.pi/n)))\n",
        "A=0.5*n*s*a\n",
        "l=np.sqrt(h*h + a*a)\n",
        "\n",
        "#Volume and Total Surface Area of the pyramid\n",
        "V=A*h/3.\n",
        "S=A+(0.5*n*s*l)\n",
        "\n",
        "print(\"The Volume of the pyramid is \", round(V,3), \"cu. units\")\n",
        "print(\"The total surface area of the pyramid is \", round(S,3), \"sq. units\")"
      ],
      "execution_count": null,
      "outputs": [
        {
          "output_type": "stream",
          "name": "stdout",
          "text": [
            "Enter the height of the pyramid 10\n",
            "Enter the number of sides of the polygon base 3\n",
            "Enter the length of the side of the regular polygon 2\n",
            "The Volume of the pyramid is  547.073 cu. units\n",
            "The total surface area of the pyramid is  330.963 sq. units\n"
          ]
        }
      ]
    },
    {
      "cell_type": "markdown",
      "metadata": {
        "id": "GNCEHy5CvYpu"
      },
      "source": [
        "**Exercise 3:**"
      ]
    },
    {
      "cell_type": "code",
      "metadata": {
        "colab": {
          "base_uri": "https://localhost:8080/"
        },
        "id": "ghd0hQhBvcYy",
        "outputId": "1b2f4511-b8bf-48a6-9a2a-d4641b50a292"
      },
      "source": [
        "theta_min=20 # Temp. in deg. celcius\n",
        "theta_max=80\n",
        "step=5\n",
        "\n",
        "i=theta_min\n",
        "while (i<=theta_max):\n",
        "  print(f\"Temperature of {i} Celcius is equal to {i*9./5. + 32} Farenheit \")\n",
        "  i+=step"
      ],
      "execution_count": null,
      "outputs": [
        {
          "output_type": "stream",
          "name": "stdout",
          "text": [
            "Temperature of 20 Celcius is equal to 68.0 Farenheit \n",
            "Temperature of 25 Celcius is equal to 77.0 Farenheit \n",
            "Temperature of 30 Celcius is equal to 86.0 Farenheit \n",
            "Temperature of 35 Celcius is equal to 95.0 Farenheit \n",
            "Temperature of 40 Celcius is equal to 104.0 Farenheit \n",
            "Temperature of 45 Celcius is equal to 113.0 Farenheit \n",
            "Temperature of 50 Celcius is equal to 122.0 Farenheit \n",
            "Temperature of 55 Celcius is equal to 131.0 Farenheit \n",
            "Temperature of 60 Celcius is equal to 140.0 Farenheit \n",
            "Temperature of 65 Celcius is equal to 149.0 Farenheit \n",
            "Temperature of 70 Celcius is equal to 158.0 Farenheit \n",
            "Temperature of 75 Celcius is equal to 167.0 Farenheit \n",
            "Temperature of 80 Celcius is equal to 176.0 Farenheit \n"
          ]
        }
      ]
    },
    {
      "cell_type": "code",
      "metadata": {
        "colab": {
          "base_uri": "https://localhost:8080/"
        },
        "id": "_i9uwHVgzU04",
        "outputId": "28a71f90-0e59-49a6-eff1-1484f96b4761"
      },
      "source": [
        "for i in range(theta_min,theta_max+1,step):\n",
        "  print(f\"Temperature of {i} Celcius is equal to {i*9./5. + 32} Farenheit \")"
      ],
      "execution_count": 32,
      "outputs": [
        {
          "output_type": "stream",
          "name": "stdout",
          "text": [
            "Temperature of 20 Celcius is equal to 68.0 Farenheit \n",
            "Temperature of 25 Celcius is equal to 77.0 Farenheit \n",
            "Temperature of 30 Celcius is equal to 86.0 Farenheit \n",
            "Temperature of 35 Celcius is equal to 95.0 Farenheit \n",
            "Temperature of 40 Celcius is equal to 104.0 Farenheit \n",
            "Temperature of 45 Celcius is equal to 113.0 Farenheit \n",
            "Temperature of 50 Celcius is equal to 122.0 Farenheit \n",
            "Temperature of 55 Celcius is equal to 131.0 Farenheit \n",
            "Temperature of 60 Celcius is equal to 140.0 Farenheit \n",
            "Temperature of 65 Celcius is equal to 149.0 Farenheit \n",
            "Temperature of 70 Celcius is equal to 158.0 Farenheit \n",
            "Temperature of 75 Celcius is equal to 167.0 Farenheit \n",
            "Temperature of 80 Celcius is equal to 176.0 Farenheit \n"
          ]
        }
      ]
    },
    {
      "cell_type": "markdown",
      "metadata": {
        "id": "4-AZEI6o5T5z"
      },
      "source": [
        "**Exercise 4:**"
      ]
    },
    {
      "cell_type": "code",
      "metadata": {
        "colab": {
          "base_uri": "https://localhost:8080/"
        },
        "id": "1gBq9LnS0mQt",
        "outputId": "61074da5-62a5-48a7-f0fc-b650ae1cb8bb"
      },
      "source": [
        "theta_min=20 # Temp. in deg. celcius\n",
        "theta_max=80\n",
        "step=5\n",
        "\n",
        "n       = int((theta_max-theta_min)/step)+1\n",
        "theta_C = np.linspace(theta_min,theta_max,n)\n",
        "\n",
        "def convert(C):\n",
        "  F=C*9./5. +32\n",
        "  return F\n",
        "\n",
        "print(theta_C,\"\\n\",convert(theta_C))"
      ],
      "execution_count": 36,
      "outputs": [
        {
          "output_type": "stream",
          "name": "stdout",
          "text": [
            "[20. 25. 30. 35. 40. 45. 50. 55. 60. 65. 70. 75. 80.] \n",
            " [ 68.  77.  86.  95. 104. 113. 122. 131. 140. 149. 158. 167. 176.]\n"
          ]
        }
      ]
    },
    {
      "cell_type": "code",
      "metadata": {
        "id": "tlzNMnaf9Kjs"
      },
      "source": [
        "def tests_main():\n",
        "  #test1()\n",
        "  #test_angle()\n",
        "  test_odd_even()\n",
        "  #test_Heron()\n",
        "  #test_velocity_plot()"
      ],
      "execution_count": 56,
      "outputs": []
    },
    {
      "cell_type": "code",
      "metadata": {
        "colab": {
          "base_uri": "https://localhost:8080/"
        },
        "id": "B4qxfDhuA6oT",
        "outputId": "c7e639a6-0157-4718-e010-1ae0d5601636"
      },
      "source": [
        "tests_main()"
      ],
      "execution_count": 57,
      "outputs": [
        {
          "output_type": "stream",
          "name": "stdout",
          "text": [
            "Enter a number 5\n",
            "The entered number is odd \n"
          ]
        }
      ]
    },
    {
      "cell_type": "code",
      "metadata": {
        "id": "Hliap1re__MX"
      },
      "source": [
        ""
      ],
      "execution_count": null,
      "outputs": []
    }
  ]
}